{
 "cells": [
  {
   "cell_type": "code",
   "execution_count": 22,
   "metadata": {
    "_cell_guid": "b1076dfc-b9ad-4769-8c92-a6c4dae69d19",
    "_uuid": "8f2839f25d086af736a60e9eeb907d3b93b6e0e5",
    "execution": {
     "iopub.execute_input": "2025-03-31T02:45:09.087551Z",
     "iopub.status.busy": "2025-03-31T02:45:09.087149Z",
     "iopub.status.idle": "2025-03-31T02:45:09.097219Z",
     "shell.execute_reply": "2025-03-31T02:45:09.096248Z",
     "shell.execute_reply.started": "2025-03-31T02:45:09.087518Z"
    },
    "trusted": true
   },
   "outputs": [
    {
     "name": "stdout",
     "output_type": "stream",
     "text": [
      "/kaggle/input/glove-global-vectors-for-word-representation/glove.6B.200d.txt\n",
      "/kaggle/input/glove-global-vectors-for-word-representation/glove.6B.50d.txt\n",
      "/kaggle/input/glove-global-vectors-for-word-representation/glove.6B.100d.txt\n",
      "/kaggle/input/nlp-getting-started/sample_submission.csv\n",
      "/kaggle/input/nlp-getting-started/train.csv\n",
      "/kaggle/input/nlp-getting-started/test.csv\n"
     ]
    }
   ],
   "source": [
    "# This Python 3 environment comes with many helpful analytics libraries installed\n",
    "# It is defined by the kaggle/python Docker image: https://github.com/kaggle/docker-python\n",
    "# For example, here's several helpful packages to load\n",
    "\n",
    "import numpy as np # linear algebra\n",
    "import pandas as pd # data processing, CSV file I/O (e.g. pd.read_csv)\n",
    "\n",
    "# Input data files are available in the read-only \"../input/\" directory\n",
    "# For example, running this (by clicking run or pressing Shift+Enter) will list all files under the input directory\n",
    "\n",
    "import os\n",
    "for dirname, _, filenames in os.walk('/kaggle/input'):\n",
    "    for filename in filenames:\n",
    "        print(os.path.join(dirname, filename))\n",
    "\n",
    "# You can write up to 20GB to the current directory (/kaggle/working/) that gets preserved as output when you create a version using \"Save & Run All\" \n",
    "# You can also write temporary files to /kaggle/temp/, but they won't be saved outside of the current session"
   ]
  },
  {
   "cell_type": "markdown",
   "metadata": {},
   "source": [
    "### Problem statement\n",
    "\n",
    "Predict which Tweets are about real disasters and which ones are not. Its a classification problem. The difference is that there is no limit on the input size (tweet size), hinting to use RNN models."
   ]
  },
  {
   "cell_type": "code",
   "execution_count": 23,
   "metadata": {
    "execution": {
     "iopub.execute_input": "2025-03-31T02:45:09.099069Z",
     "iopub.status.busy": "2025-03-31T02:45:09.098605Z",
     "iopub.status.idle": "2025-03-31T02:45:09.116011Z",
     "shell.execute_reply": "2025-03-31T02:45:09.114769Z",
     "shell.execute_reply.started": "2025-03-31T02:45:09.099028Z"
    },
    "trusted": true
   },
   "outputs": [],
   "source": [
    "import numpy as np\n",
    "import pandas as pd\n",
    "import matplotlib.pyplot as plt\n",
    "import seaborn as sns\n",
    "from sklearn.model_selection import train_test_split\n",
    "from sklearn.feature_extraction.text import CountVectorizer, TfidfVectorizer\n",
    "from sklearn.preprocessing import StandardScaler\n",
    "from sklearn.decomposition import PCA\n",
    "from sklearn.pipeline import Pipeline\n",
    "from sklearn.linear_model import LogisticRegression, SGDClassifier\n",
    "from sklearn.impute import SimpleImputer, KNNImputer\n",
    "from sklearn.metrics import accuracy_score, f1_score, classification_report, roc_auc_score\n",
    "from sklearn.feature_selection import SelectKBest, SelectPercentile\n",
    "import re\n",
    "import warnings\n",
    "import time\n",
    "import gc\n",
    "import random\n",
    "warnings.filterwarnings('ignore')"
   ]
  },
  {
   "cell_type": "code",
   "execution_count": 24,
   "metadata": {
    "execution": {
     "iopub.execute_input": "2025-03-31T02:45:09.118433Z",
     "iopub.status.busy": "2025-03-31T02:45:09.118004Z",
     "iopub.status.idle": "2025-03-31T02:45:09.140318Z",
     "shell.execute_reply": "2025-03-31T02:45:09.139095Z",
     "shell.execute_reply.started": "2025-03-31T02:45:09.118390Z"
    },
    "trusted": true
   },
   "outputs": [],
   "source": [
    "import nltk\n",
    "# import augly.text as txtaugs\n",
    "from nltk.stem import WordNetLemmatizer\n",
    "from nltk.tokenize import word_tokenize\n",
    "\n",
    "# nltk.download('punkt')\n",
    "nltk.download('stopwords')\n",
    "nltk.download('wordnet')\n",
    "# nltk.download('punkt_tab')\n",
    "\n",
    "from nltk.corpus import  stopwords, wordnet"
   ]
  },
  {
   "cell_type": "code",
   "execution_count": 25,
   "metadata": {
    "execution": {
     "iopub.execute_input": "2025-03-31T02:45:09.142501Z",
     "iopub.status.busy": "2025-03-31T02:45:09.142172Z",
     "iopub.status.idle": "2025-03-31T02:45:09.159468Z",
     "shell.execute_reply": "2025-03-31T02:45:09.158127Z",
     "shell.execute_reply.started": "2025-03-31T02:45:09.142474Z"
    },
    "trusted": true
   },
   "outputs": [],
   "source": [
    "!pip install nltk\n",
    "!unzip /usr/share/nltk_data/corpora/wordnet.zip -d /usr/share/nltk_data/corpora/"
   ]
  },
  {
   "cell_type": "code",
   "execution_count": 26,
   "metadata": {
    "execution": {
     "iopub.execute_input": "2025-03-31T02:45:09.160959Z",
     "iopub.status.busy": "2025-03-31T02:45:09.160556Z",
     "iopub.status.idle": "2025-03-31T02:45:09.177407Z",
     "shell.execute_reply": "2025-03-31T02:45:09.176221Z",
     "shell.execute_reply.started": "2025-03-31T02:45:09.160928Z"
    },
    "trusted": true
   },
   "outputs": [],
   "source": [
    "import keras_hub\n",
    "import tensorflow as tf\n",
    "import tensorflow_hub as hub\n",
    "from tensorflow.keras.models import Sequential\n",
    "from tensorflow.keras.layers import Dense, Dropout, Embedding, LSTM, Conv1D, Bidirectional\n",
    "from tensorflow.keras.layers import MaxPooling1D, Flatten, GlobalMaxPooling1D\n",
    "from tensorflow.keras.optimizers import Adam\n",
    "from keras.regularizers import L1L2\n",
    "from tensorflow.keras.callbacks import EarlyStopping\n",
    "from sklearn.model_selection import GridSearchCV"
   ]
  },
  {
   "cell_type": "markdown",
   "metadata": {},
   "source": [
    "### EDA"
   ]
  },
  {
   "cell_type": "code",
   "execution_count": 27,
   "metadata": {
    "execution": {
     "iopub.execute_input": "2025-03-31T02:45:09.178907Z",
     "iopub.status.busy": "2025-03-31T02:45:09.178577Z",
     "iopub.status.idle": "2025-03-31T02:45:09.240842Z",
     "shell.execute_reply": "2025-03-31T02:45:09.239775Z",
     "shell.execute_reply.started": "2025-03-31T02:45:09.178876Z"
    },
    "trusted": true
   },
   "outputs": [],
   "source": [
    "train = pd.read_csv(\"/kaggle/input/nlp-getting-started/train.csv\")\n",
    "test = pd.read_csv(\"/kaggle/input/nlp-getting-started/test.csv\")\n",
    "sample_submission = pd.read_csv(\"/kaggle/input/nlp-getting-started/sample_submission.csv\")"
   ]
  },
  {
   "cell_type": "code",
   "execution_count": 28,
   "metadata": {
    "execution": {
     "iopub.execute_input": "2025-03-31T02:45:09.242090Z",
     "iopub.status.busy": "2025-03-31T02:45:09.241735Z",
     "iopub.status.idle": "2025-03-31T02:45:09.256723Z",
     "shell.execute_reply": "2025-03-31T02:45:09.255258Z",
     "shell.execute_reply.started": "2025-03-31T02:45:09.242058Z"
    },
    "trusted": true
   },
   "outputs": [
    {
     "name": "stdout",
     "output_type": "stream",
     "text": [
      "<class 'pandas.core.frame.DataFrame'>\n",
      "RangeIndex: 7613 entries, 0 to 7612\n",
      "Data columns (total 5 columns):\n",
      " #   Column    Non-Null Count  Dtype \n",
      "---  ------    --------------  ----- \n",
      " 0   id        7613 non-null   int64 \n",
      " 1   keyword   7552 non-null   object\n",
      " 2   location  5080 non-null   object\n",
      " 3   text      7613 non-null   object\n",
      " 4   target    7613 non-null   int64 \n",
      "dtypes: int64(2), object(3)\n",
      "memory usage: 297.5+ KB\n"
     ]
    }
   ],
   "source": [
    "train.info()"
   ]
  },
  {
   "cell_type": "code",
   "execution_count": 29,
   "metadata": {
    "execution": {
     "iopub.execute_input": "2025-03-31T02:45:09.260242Z",
     "iopub.status.busy": "2025-03-31T02:45:09.259660Z",
     "iopub.status.idle": "2025-03-31T02:45:09.286966Z",
     "shell.execute_reply": "2025-03-31T02:45:09.285601Z",
     "shell.execute_reply.started": "2025-03-31T02:45:09.260203Z"
    },
    "trusted": true
   },
   "outputs": [
    {
     "data": {
      "text/html": [
       "<div>\n",
       "<style scoped>\n",
       "    .dataframe tbody tr th:only-of-type {\n",
       "        vertical-align: middle;\n",
       "    }\n",
       "\n",
       "    .dataframe tbody tr th {\n",
       "        vertical-align: top;\n",
       "    }\n",
       "\n",
       "    .dataframe thead th {\n",
       "        text-align: right;\n",
       "    }\n",
       "</style>\n",
       "<table border=\"1\" class=\"dataframe\">\n",
       "  <thead>\n",
       "    <tr style=\"text-align: right;\">\n",
       "      <th></th>\n",
       "      <th>id</th>\n",
       "      <th>keyword</th>\n",
       "      <th>location</th>\n",
       "      <th>text</th>\n",
       "      <th>target</th>\n",
       "    </tr>\n",
       "  </thead>\n",
       "  <tbody>\n",
       "    <tr>\n",
       "      <th>7198</th>\n",
       "      <td>10313</td>\n",
       "      <td>weapon</td>\n",
       "      <td>NaN</td>\n",
       "      <td>Back to back like I'm on the cover of lethal weapon</td>\n",
       "      <td>0</td>\n",
       "    </tr>\n",
       "    <tr>\n",
       "      <th>4754</th>\n",
       "      <td>6764</td>\n",
       "      <td>lightning</td>\n",
       "      <td>NaN</td>\n",
       "      <td>Science Daily: Lightning reshapes rocks at the atomic level - A lightning strike can reshape a mineral's crystal s... http://t.co/TEZLTqeyw2</td>\n",
       "      <td>1</td>\n",
       "    </tr>\n",
       "    <tr>\n",
       "      <th>2747</th>\n",
       "      <td>3950</td>\n",
       "      <td>devastation</td>\n",
       "      <td>St Joseph de Beauce</td>\n",
       "      <td>In this fragile global economy considering the devastation the alternatives would cause ... it's the best reason .. https://t.co/zwVyisyP2B</td>\n",
       "      <td>1</td>\n",
       "    </tr>\n",
       "  </tbody>\n",
       "</table>\n",
       "</div>"
      ],
      "text/plain": [
       "         id      keyword             location  \\\n",
       "7198  10313       weapon                  NaN   \n",
       "4754   6764    lightning                  NaN   \n",
       "2747   3950  devastation  St Joseph de Beauce   \n",
       "\n",
       "                                                                                                                                              text  \\\n",
       "7198                                                                                           Back to back like I'm on the cover of lethal weapon   \n",
       "4754  Science Daily: Lightning reshapes rocks at the atomic level - A lightning strike can reshape a mineral's crystal s... http://t.co/TEZLTqeyw2   \n",
       "2747   In this fragile global economy considering the devastation the alternatives would cause ... it's the best reason .. https://t.co/zwVyisyP2B   \n",
       "\n",
       "      target  \n",
       "7198       0  \n",
       "4754       1  \n",
       "2747       1  "
      ]
     },
     "execution_count": 29,
     "metadata": {},
     "output_type": "execute_result"
    }
   ],
   "source": [
    "train.sample(3)"
   ]
  },
  {
   "cell_type": "code",
   "execution_count": 30,
   "metadata": {
    "execution": {
     "iopub.execute_input": "2025-03-31T02:45:09.289815Z",
     "iopub.status.busy": "2025-03-31T02:45:09.289383Z",
     "iopub.status.idle": "2025-03-31T02:45:09.338722Z",
     "shell.execute_reply": "2025-03-31T02:45:09.337613Z",
     "shell.execute_reply.started": "2025-03-31T02:45:09.289768Z"
    },
    "trusted": true
   },
   "outputs": [
    {
     "name": "stdout",
     "output_type": "stream",
     "text": [
      "Number of sentences where some col has null values:\n",
      "keyword       61\n",
      "location    2533\n",
      "dtype: int64\n",
      "Number of duplicates : 0\n",
      "Number of unique words : 7503\n",
      "Median number of words per sample : 15.0\n"
     ]
    }
   ],
   "source": [
    "# Check for nulls\n",
    "nulls = train.isnull().sum().loc[lambda x: x >0]\n",
    "print(f\"Number of sentences where some col has null values:\\n{nulls}\")\n",
    "\n",
    "# Check duplicates\n",
    "duplicates = train.duplicated().sum()\n",
    "print(f\"Number of duplicates : {duplicates}\")\n",
    "\n",
    "# Number of unique words\n",
    "unique_words = len(np.unique(train['text']))\n",
    "print(f\"Number of unique words : {unique_words}\")\n",
    "\n",
    "# Median number of words per sample\n",
    "print(f\"Median number of words per sample : {train['text'].apply(lambda x: len(x.split())).median()}\")"
   ]
  },
  {
   "cell_type": "markdown",
   "metadata": {},
   "source": [
    "Observation: Quite a significant percentage of dataset has null values. There are total of 7613 records in the dataset, out of which 2533 + 61 = 2,594 (34%) has null values."
   ]
  },
  {
   "cell_type": "code",
   "execution_count": 31,
   "metadata": {
    "execution": {
     "iopub.execute_input": "2025-03-31T02:45:09.340179Z",
     "iopub.status.busy": "2025-03-31T02:45:09.339828Z",
     "iopub.status.idle": "2025-03-31T02:45:10.183225Z",
     "shell.execute_reply": "2025-03-31T02:45:10.181970Z",
     "shell.execute_reply.started": "2025-03-31T02:45:09.340147Z"
    },
    "trusted": true
   },
   "outputs": [
    {
     "data": {
      "image/png": "[encoded data removed]",
      "text/plain": [
       "<Figure size 400x200 with 1 Axes>"
      ]
     },
     "metadata": {},
     "output_type": "display_data"
    },
    {
     "data": {
      "image/png": "[encoded data removed]",
      "text/plain": [
       "<Figure size 1000x600 with 1 Axes>"
      ]
     },
     "metadata": {},
     "output_type": "display_data"
    }
   ],
   "source": [
    "# Check number of samples per class\n",
    "train['target'].value_counts().plot(kind='bar', figsize=(4,2), title='Number of samples per class', color='blue')\n",
    "plt.xlabel('Target')\n",
    "plt.ylabel('Count')\n",
    "plt.show()\n",
    "\n",
    "# Sample length distribution\n",
    "train['text'].apply(lambda x: len(x.split())).plot(kind='hist', title='Words per sentence', bins=50, figsize=(10,6))\n",
    "plt.xlabel('Sample length')\n",
    "plt.ylabel('Count')\n",
    "plt.show()"
   ]
  },
  {
   "cell_type": "markdown",
   "metadata": {},
   "source": [
    "Observation: \n",
    "1. Most of sentences have ~15 words and all of them have <35 words.\n",
    "2. Slight imbalance between label 0 and label 1 classes."
   ]
  },
  {
   "cell_type": "code",
   "execution_count": 32,
   "metadata": {
    "execution": {
     "iopub.execute_input": "2025-03-31T02:45:10.184767Z",
     "iopub.status.busy": "2025-03-31T02:45:10.184374Z",
     "iopub.status.idle": "2025-03-31T02:45:10.192791Z",
     "shell.execute_reply": "2025-03-31T02:45:10.191633Z",
     "shell.execute_reply.started": "2025-03-31T02:45:10.184733Z"
    },
    "trusted": true
   },
   "outputs": [],
   "source": [
    "# Initialize Lemmatizer\n",
    "lemmatizer = WordNetLemmatizer()\n",
    "stop_words = set(stopwords.words('english'))\n",
    "\n",
    "# Function to clean tweets\n",
    "def clean_text(text):\n",
    "    # Convert to lowercase\n",
    "    text = text.lower()\n",
    "    \n",
    "    # Remove URLs\n",
    "    text = re.sub(r'http\\S+|www\\S+', '', text)\n",
    "    \n",
    "    # Remove mentions and hashtags (keeping the words if useful)\n",
    "    text = re.sub(r'@\\w+|#\\w+', '', text)\n",
    "    \n",
    "    # Remove special characters, punctuation, and numbers\n",
    "    text = re.sub(r'[^a-z\\s]', '', text)\n",
    "    \n",
    "    # Tokenization\n",
    "    tokens = word_tokenize(text)\n",
    "    \n",
    "    # Remove stopwords\n",
    "    tokens = [word for word in tokens if word not in stop_words]\n",
    "    \n",
    "    # Lemmatization (converting words to their base form)\n",
    "    tokens = [lemmatizer.lemmatize(word) for word in tokens]\n",
    "    \n",
    "    # Join words back into a single string\n",
    "    return \" \".join(tokens)\n",
    "\n",
    "# Function to clean a dataset column\n",
    "def preprocess_column(df, column):\n",
    "    df[column] = df[column].astype(str).apply(clean_text)\n",
    "    return df\n"
   ]
  },
  {
   "cell_type": "code",
   "execution_count": 33,
   "metadata": {
    "execution": {
     "iopub.execute_input": "2025-03-31T02:45:10.194349Z",
     "iopub.status.busy": "2025-03-31T02:45:10.193901Z",
     "iopub.status.idle": "2025-03-31T02:45:11.491980Z",
     "shell.execute_reply": "2025-03-31T02:45:11.490398Z",
     "shell.execute_reply.started": "2025-03-31T02:45:10.194307Z"
    },
    "trusted": true
   },
   "outputs": [
    {
     "name": "stdout",
     "output_type": "stream",
     "text": [
      "                                                                                    text\n",
      "0                                                        deed reason may allah forgive u\n",
      "1                                                  forest fire near la ronge sask canada\n",
      "2  resident asked shelter place notified officer evacuation shelter place order expected\n",
      "3                                             people receive evacuation order california\n",
      "4                                                 got sent photo ruby smoke pours school\n"
     ]
    }
   ],
   "source": [
    "# Clean the 'text' column\n",
    "df = preprocess_column(train, 'text')\n",
    "\n",
    "# Display cleaned data\n",
    "print(df[['text']].head())"
   ]
  },
  {
   "cell_type": "markdown",
   "metadata": {},
   "source": [
    "### Model Training"
   ]
  },
  {
   "cell_type": "markdown",
   "metadata": {},
   "source": [
    "#### Model 1: Baseline model\n",
    "I will use a simple model - TF-IDF + Logistic Regression as a baseline model. Following is what it does:\n",
    "1. Convert the text to TF-IDF representation\n",
    "2. Use Logistic Regression for classification into the two classes - label=0 and label=1"
   ]
  },
  {
   "cell_type": "code",
   "execution_count": 34,
   "metadata": {
    "execution": {
     "iopub.execute_input": "2025-03-31T02:45:11.493394Z",
     "iopub.status.busy": "2025-03-31T02:45:11.493103Z",
     "iopub.status.idle": "2025-03-31T02:45:11.670054Z",
     "shell.execute_reply": "2025-03-31T02:45:11.668786Z",
     "shell.execute_reply.started": "2025-03-31T02:45:11.493370Z"
    },
    "trusted": true
   },
   "outputs": [
    {
     "name": "stdout",
     "output_type": "stream",
     "text": [
      "Accuracy: 0.8043\n",
      "              precision    recall  f1-score   support\n",
      "\n",
      "           0       0.79      0.89      0.84       874\n",
      "           1       0.83      0.68      0.75       649\n",
      "\n",
      "    accuracy                           0.80      1523\n",
      "   macro avg       0.81      0.79      0.79      1523\n",
      "weighted avg       0.81      0.80      0.80      1523\n",
      "\n"
     ]
    }
   ],
   "source": [
    "import pandas as pd\n",
    "import numpy as np\n",
    "import re\n",
    "import nltk\n",
    "from nltk.corpus import stopwords\n",
    "from nltk.tokenize import word_tokenize\n",
    "from nltk.stem import WordNetLemmatizer\n",
    "from sklearn.feature_extraction.text import TfidfVectorizer\n",
    "from sklearn.model_selection import train_test_split\n",
    "from sklearn.linear_model import LogisticRegression\n",
    "from sklearn.metrics import accuracy_score, classification_report\n",
    "\n",
    "# Split data into train and test sets\n",
    "X_train, X_test, y_train, y_test = train_test_split(df['text'], df['target'], test_size=0.2, random_state=42)\n",
    "\n",
    "# Convert text to TF-IDF features\n",
    "vectorizer = TfidfVectorizer(max_features=5000)  # Limit to top 5000 words\n",
    "X_train_tfidf = vectorizer.fit_transform(X_train)\n",
    "X_test_tfidf = vectorizer.transform(X_test)\n",
    "\n",
    "# Train Logistic Regression model\n",
    "model = LogisticRegression()\n",
    "model.fit(X_train_tfidf, y_train)\n",
    "\n",
    "# Make predictions\n",
    "y_pred = model.predict(X_test_tfidf)\n",
    "\n",
    "# Evaluate the model\n",
    "accuracy = accuracy_score(y_test, y_pred)\n",
    "print(f\"Accuracy: {accuracy:.4f}\")\n",
    "print(classification_report(y_test, y_pred))\n"
   ]
  },
  {
   "cell_type": "code",
   "execution_count": 35,
   "metadata": {
    "execution": {
     "iopub.execute_input": "2025-03-31T02:45:11.671529Z",
     "iopub.status.busy": "2025-03-31T02:45:11.671211Z",
     "iopub.status.idle": "2025-03-31T02:45:11.680885Z",
     "shell.execute_reply": "2025-03-31T02:45:11.679682Z",
     "shell.execute_reply.started": "2025-03-31T02:45:11.671500Z"
    },
    "trusted": true
   },
   "outputs": [
    {
     "name": "stdout",
     "output_type": "stream",
     "text": [
      "False Negative text\n",
      "2644                                                           new weapon cause unimaginable destruction\n",
      "1765                       favorite lady came volunteer meeting hopefully joining youth collision excite\n",
      "1817    ux fail emv people want insert remove quickly like gas pump stripe reader person told crashed po\n",
      "3624                                                      month mark total fatality first half last year\n",
      "5324                                              pandemonium aba woman delivers baby without face photo\n",
      "6539                          miracle mankind survived year since one worst day history bet survive next\n",
      "4518                   wait thought fecal hurricane scifi maybe turdnado ive forgeting shit storm lately\n",
      "7253                                  reagan administration arranged israeli weapon sent guatemalan army\n",
      "230                           people annihilated last night weather really philip thought would forecast\n",
      "6292              today storm pas let tomorrow light greet kiss bask loving warmth let soul return bliss\n",
      "Name: text, dtype: object\n"
     ]
    }
   ],
   "source": [
    "import pandas as pd\n",
    "X_test_df = pd.DataFrame({'text': X_test, }) \n",
    "misclassified = X_test_df[((y_pred != y_test) & (y_test==1))]\n",
    "pd.set_option('display.max_colwidth', None)  # Show full text\n",
    "\n",
    "print(f\"False Negative text\")\n",
    "print(misclassified['text'][:10])"
   ]
  },
  {
   "cell_type": "markdown",
   "metadata": {},
   "source": []
  },
  {
   "cell_type": "markdown",
   "metadata": {},
   "source": [
    "Deductions:\n",
    "* The model is having an accuracy of 80.43%.\n",
    "* Recall of 68% for label 1 shows model missed to classify a disaster tweet for 32% of times which is high. (almost 1 out of every 3 tweets)\n",
    "* Based on F1 score we can see model is good at identifying label 0 category (ie non disaster tweet) and performs decent for label 1 (disaster category)."
   ]
  },
  {
   "cell_type": "code",
   "execution_count": 66,
   "metadata": {
    "execution": {
     "iopub.execute_input": "2025-03-31T03:05:01.647462Z",
     "iopub.status.busy": "2025-03-31T03:05:01.647068Z",
     "iopub.status.idle": "2025-03-31T03:05:02.000913Z",
     "shell.execute_reply": "2025-03-31T03:05:01.999633Z",
     "shell.execute_reply.started": "2025-03-31T03:05:01.647430Z"
    },
    "trusted": true
   },
   "outputs": [
    {
     "name": "stdout",
     "output_type": "stream",
     "text": [
      "Accuracy: 0.8037\n",
      "              precision    recall  f1-score   support\n",
      "\n",
      "           0       0.79      0.89      0.84       874\n",
      "           1       0.83      0.68      0.75       649\n",
      "\n",
      "    accuracy                           0.80      1523\n",
      "   macro avg       0.81      0.79      0.79      1523\n",
      "weighted avg       0.81      0.80      0.80      1523\n",
      "\n"
     ]
    }
   ],
   "source": [
    "# Split data into train and test sets\n",
    "X_train, X_test, y_train, y_test = train_test_split(df['text'], df['target'], test_size=0.2, random_state=42)\n",
    "\n",
    "# Convert text to TF-IDF features\n",
    "vectorizer = TfidfVectorizer(ngram_range=(1,2), max_features=7000, min_df=1, max_df=0.95)\n",
    "X_train_tfidf = vectorizer.fit_transform(X_train)\n",
    "X_test_tfidf = vectorizer.transform(X_test)\n",
    "\n",
    "# Train Logistic Regression model\n",
    "model = LogisticRegression()\n",
    "model.fit(X_train_tfidf, y_train)\n",
    "\n",
    "# Make predictions\n",
    "y_pred = model.predict(X_test_tfidf)\n",
    "\n",
    "# Evaluate the model\n",
    "accuracy = accuracy_score(y_test, y_pred)\n",
    "print(f\"Accuracy: {accuracy:.4f}\")\n",
    "print(classification_report(y_test, y_pred))"
   ]
  },
  {
   "cell_type": "code",
   "execution_count": 67,
   "metadata": {
    "execution": {
     "iopub.execute_input": "2025-03-31T03:06:18.637687Z",
     "iopub.status.busy": "2025-03-31T03:06:18.637304Z",
     "iopub.status.idle": "2025-03-31T03:06:22.637558Z",
     "shell.execute_reply": "2025-03-31T03:06:22.636368Z",
     "shell.execute_reply.started": "2025-03-31T03:06:18.637658Z"
    },
    "trusted": true
   },
   "outputs": [
    {
     "name": "stdout",
     "output_type": "stream",
     "text": [
      "Predictions saved to sample_submission_baseline_model.csv\n"
     ]
    }
   ],
   "source": [
    "# Use the same tokenizer from training (DO NOT re-fit on test data)\n",
    "df_test = preprocess_column(test, 'text')\n",
    "# df_test['clean_text'] = df_test['text'].apply(clean_text)\n",
    "# sequences = tokenizer.texts_to_sequences(df_test['clean_text'])  \n",
    "X_test = vectorizer.transform(df_test['clean_text'])\n",
    "\n",
    "# Make predictions\n",
    "predictions = model.predict(X_test)\n",
    "y_pred = (predictions > 0.5).astype(int)  # Convert probabilities to binary labels\n",
    "\n",
    "# Save to CSV\n",
    "submission = pd.DataFrame({\"id\": test['id'], \"target\": y_pred.flatten()})\n",
    "submission.to_csv(\"sample_submission_baseline_model.csv\", index=False)\n",
    "\n",
    "print(\"Predictions saved to sample_submission_baseline_model.csv\")\n"
   ]
  },
  {
   "cell_type": "markdown",
   "metadata": {},
   "source": [
    "#### Method 2: Advanced model\n",
    "In this methodology, I will use a more advanced approach to solve the issue. I will encode the sentences using word2vec model and then use LSTM for predicting the labels.\n",
    "\n",
    "As majority of the sentences have ~30 words(as can be seen in the EDA graph) which is not that long, LSTM could still perform better because it will be able to remember the context from the entire text."
   ]
  },
  {
   "cell_type": "code",
   "execution_count": 37,
   "metadata": {
    "execution": {
     "iopub.execute_input": "2025-03-31T02:45:12.055816Z",
     "iopub.status.busy": "2025-03-31T02:45:12.055492Z",
     "iopub.status.idle": "2025-03-31T02:45:12.061863Z",
     "shell.execute_reply": "2025-03-31T02:45:12.060533Z",
     "shell.execute_reply.started": "2025-03-31T02:45:12.055785Z"
    },
    "trusted": true
   },
   "outputs": [],
   "source": [
    "import numpy as np\n",
    "import pandas as pd\n",
    "import re\n",
    "import nltk\n",
    "import tensorflow as tf\n",
    "\n",
    "from nltk.corpus import stopwords\n",
    "from nltk.tokenize import word_tokenize\n",
    "from gensim.models import Word2Vec\n",
    "from tensorflow.keras.preprocessing.text import Tokenizer\n",
    "from tensorflow.keras.preprocessing.sequence import pad_sequences\n",
    "from tensorflow.keras.models import Sequential\n",
    "from tensorflow.keras.layers import Embedding, LSTM, Dense, Dropout\n",
    "\n",
    "# nltk.download('stopwords')\n",
    "# nltk.download('punkt')\n"
   ]
  },
  {
   "cell_type": "code",
   "execution_count": 38,
   "metadata": {
    "execution": {
     "iopub.execute_input": "2025-03-31T02:45:12.063644Z",
     "iopub.status.busy": "2025-03-31T02:45:12.063221Z",
     "iopub.status.idle": "2025-03-31T02:45:20.603590Z",
     "shell.execute_reply": "2025-03-31T02:45:20.602531Z",
     "shell.execute_reply.started": "2025-03-31T02:45:12.063601Z"
    },
    "trusted": true
   },
   "outputs": [],
   "source": [
    "# Function to clean text\n",
    "def clean_text(text):\n",
    "    text = text.lower()\n",
    "    text = re.sub(r'http\\S+', '', text) \n",
    "    text = re.sub(r'[^a-zA-Z\\s]', '', text) \n",
    "    text = ' '.join([word for word in word_tokenize(text) if word not in stopwords.words('english')])  # Remove stopwords\n",
    "    return text\n",
    "\n",
    "# Apply cleaning\n",
    "df['clean_text'] = df['text'].apply(clean_text)\n",
    "\n",
    "# Tokenize sentences\n",
    "tokenized_sentences = [sentence.split() for sentence in df['clean_text']]\n"
   ]
  },
  {
   "cell_type": "code",
   "execution_count": 39,
   "metadata": {
    "execution": {
     "iopub.execute_input": "2025-03-31T02:45:20.605071Z",
     "iopub.status.busy": "2025-03-31T02:45:20.604699Z",
     "iopub.status.idle": "2025-03-31T02:45:21.350917Z",
     "shell.execute_reply": "2025-03-31T02:45:21.349712Z",
     "shell.execute_reply.started": "2025-03-31T02:45:20.605036Z"
    },
    "trusted": true
   },
   "outputs": [],
   "source": [
    "embedding_dim = 35\n",
    "word2vec_model = Word2Vec(sentences=tokenized_sentences, vector_size=embedding_dim, window=5, min_count=1, workers=4)"
   ]
  },
  {
   "cell_type": "code",
   "execution_count": 40,
   "metadata": {
    "execution": {
     "iopub.execute_input": "2025-03-31T02:45:21.352292Z",
     "iopub.status.busy": "2025-03-31T02:45:21.351953Z",
     "iopub.status.idle": "2025-03-31T02:45:21.599495Z",
     "shell.execute_reply": "2025-03-31T02:45:21.598405Z",
     "shell.execute_reply.started": "2025-03-31T02:45:21.352260Z"
    },
    "trusted": true
   },
   "outputs": [],
   "source": [
    "# Convert words to indices\n",
    "tokenizer = Tokenizer()\n",
    "tokenizer.fit_on_texts(df['clean_text'])\n",
    "sequences = tokenizer.texts_to_sequences(df['clean_text'])\n",
    "\n",
    "# Pad sequences\n",
    "max_length = 500  # As found in EDA\n",
    "X = pad_sequences(sequences, maxlen=max_length, padding='post')\n",
    "\n",
    "# Convert labels\n",
    "y = df['target'].values\n",
    "\n",
    "# Train-test split\n",
    "from sklearn.model_selection import train_test_split\n",
    "X_train, X_test, y_train, y_test = train_test_split(X, y, test_size=0.2, random_state=42)\n"
   ]
  },
  {
   "cell_type": "code",
   "execution_count": 41,
   "metadata": {
    "execution": {
     "iopub.execute_input": "2025-03-31T02:45:21.601062Z",
     "iopub.status.busy": "2025-03-31T02:45:21.600644Z",
     "iopub.status.idle": "2025-03-31T02:45:21.643329Z",
     "shell.execute_reply": "2025-03-31T02:45:21.642062Z",
     "shell.execute_reply.started": "2025-03-31T02:45:21.601021Z"
    },
    "trusted": true
   },
   "outputs": [],
   "source": [
    "vocab_size = len(tokenizer.word_index) + 1\n",
    "embedding_matrix = np.zeros((vocab_size, embedding_dim))\n",
    "\n",
    "for word, i in tokenizer.word_index.items():\n",
    "    if word in word2vec_model.wv:\n",
    "        embedding_matrix[i] = word2vec_model.wv[word]\n"
   ]
  },
  {
   "cell_type": "code",
   "execution_count": 42,
   "metadata": {
    "execution": {
     "iopub.execute_input": "2025-03-31T02:45:21.645014Z",
     "iopub.status.busy": "2025-03-31T02:45:21.644603Z",
     "iopub.status.idle": "2025-03-31T02:45:21.757460Z",
     "shell.execute_reply": "2025-03-31T02:45:21.756096Z",
     "shell.execute_reply.started": "2025-03-31T02:45:21.644954Z"
    },
    "trusted": true
   },
   "outputs": [
    {
     "data": {
      "text/html": [
       "<pre style=\"white-space:pre;overflow-x:auto;line-height:normal;font-family:Menlo,'DejaVu Sans Mono',consolas,'Courier New',monospace\"><span style=\"font-weight: bold\">Model: \"sequential\"</span>\n",
       "</pre>\n"
      ],
      "text/plain": [
       "\u001b[1mModel: \"sequential\"\u001b[0m\n"
      ]
     },
     "metadata": {},
     "output_type": "display_data"
    },
    {
     "data": {
      "text/html": [
       "<pre style=\"white-space:pre;overflow-x:auto;line-height:normal;font-family:Menlo,'DejaVu Sans Mono',consolas,'Courier New',monospace\">┏━━━━━━━━━━━━━━━━━━━━━━━━━━━━━━━━━━━━━━┳━━━━━━━━━━━━━━━━━━━━━━━━━━━━━┳━━━━━━━━━━━━━━━━━┓\n",
       "┃<span style=\"font-weight: bold\"> Layer (type)                         </span>┃<span style=\"font-weight: bold\"> Output Shape                </span>┃<span style=\"font-weight: bold\">         Param # </span>┃\n",
       "┡━━━━━━━━━━━━━━━━━━━━━━━━━━━━━━━━━━━━━━╇━━━━━━━━━━━━━━━━━━━━━━━━━━━━━╇━━━━━━━━━━━━━━━━━┩\n",
       "│ embedding (<span style=\"color: #0087ff; text-decoration-color: #0087ff\">Embedding</span>)                │ ?                           │         <span style=\"color: #00af00; text-decoration-color: #00af00\">424,095</span> │\n",
       "├──────────────────────────────────────┼─────────────────────────────┼─────────────────┤\n",
       "│ lstm (<span style=\"color: #0087ff; text-decoration-color: #0087ff\">LSTM</span>)                          │ ?                           │     <span style=\"color: #00af00; text-decoration-color: #00af00\">0</span> (unbuilt) │\n",
       "├──────────────────────────────────────┼─────────────────────────────┼─────────────────┤\n",
       "│ dropout (<span style=\"color: #0087ff; text-decoration-color: #0087ff\">Dropout</span>)                    │ ?                           │     <span style=\"color: #00af00; text-decoration-color: #00af00\">0</span> (unbuilt) │\n",
       "├──────────────────────────────────────┼─────────────────────────────┼─────────────────┤\n",
       "│ lstm_1 (<span style=\"color: #0087ff; text-decoration-color: #0087ff\">LSTM</span>)                        │ ?                           │     <span style=\"color: #00af00; text-decoration-color: #00af00\">0</span> (unbuilt) │\n",
       "├──────────────────────────────────────┼─────────────────────────────┼─────────────────┤\n",
       "│ dropout_1 (<span style=\"color: #0087ff; text-decoration-color: #0087ff\">Dropout</span>)                  │ ?                           │     <span style=\"color: #00af00; text-decoration-color: #00af00\">0</span> (unbuilt) │\n",
       "├──────────────────────────────────────┼─────────────────────────────┼─────────────────┤\n",
       "│ dense (<span style=\"color: #0087ff; text-decoration-color: #0087ff\">Dense</span>)                        │ ?                           │     <span style=\"color: #00af00; text-decoration-color: #00af00\">0</span> (unbuilt) │\n",
       "└──────────────────────────────────────┴─────────────────────────────┴─────────────────┘\n",
       "</pre>\n"
      ],
      "text/plain": [
       "┏━━━━━━━━━━━━━━━━━━━━━━━━━━━━━━━━━━━━━━┳━━━━━━━━━━━━━━━━━━━━━━━━━━━━━┳━━━━━━━━━━━━━━━━━┓\n",
       "┃\u001b[1m \u001b[0m\u001b[1mLayer (type)                        \u001b[0m\u001b[1m \u001b[0m┃\u001b[1m \u001b[0m\u001b[1mOutput Shape               \u001b[0m\u001b[1m \u001b[0m┃\u001b[1m \u001b[0m\u001b[1m        Param #\u001b[0m\u001b[1m \u001b[0m┃\n",
       "┡━━━━━━━━━━━━━━━━━━━━━━━━━━━━━━━━━━━━━━╇━━━━━━━━━━━━━━━━━━━━━━━━━━━━━╇━━━━━━━━━━━━━━━━━┩\n",
       "│ embedding (\u001b[38;5;33mEmbedding\u001b[0m)                │ ?                           │         \u001b[38;5;34m424,095\u001b[0m │\n",
       "├──────────────────────────────────────┼─────────────────────────────┼─────────────────┤\n",
       "│ lstm (\u001b[38;5;33mLSTM\u001b[0m)                          │ ?                           │     \u001b[38;5;34m0\u001b[0m (unbuilt) │\n",
       "├──────────────────────────────────────┼─────────────────────────────┼─────────────────┤\n",
       "│ dropout (\u001b[38;5;33mDropout\u001b[0m)                    │ ?                           │     \u001b[38;5;34m0\u001b[0m (unbuilt) │\n",
       "├──────────────────────────────────────┼─────────────────────────────┼─────────────────┤\n",
       "│ lstm_1 (\u001b[38;5;33mLSTM\u001b[0m)                        │ ?                           │     \u001b[38;5;34m0\u001b[0m (unbuilt) │\n",
       "├──────────────────────────────────────┼─────────────────────────────┼─────────────────┤\n",
       "│ dropout_1 (\u001b[38;5;33mDropout\u001b[0m)                  │ ?                           │     \u001b[38;5;34m0\u001b[0m (unbuilt) │\n",
       "├──────────────────────────────────────┼─────────────────────────────┼─────────────────┤\n",
       "│ dense (\u001b[38;5;33mDense\u001b[0m)                        │ ?                           │     \u001b[38;5;34m0\u001b[0m (unbuilt) │\n",
       "└──────────────────────────────────────┴─────────────────────────────┴─────────────────┘\n"
      ]
     },
     "metadata": {},
     "output_type": "display_data"
    },
    {
     "data": {
      "text/html": [
       "<pre style=\"white-space:pre;overflow-x:auto;line-height:normal;font-family:Menlo,'DejaVu Sans Mono',consolas,'Courier New',monospace\"><span style=\"font-weight: bold\"> Total params: </span><span style=\"color: #00af00; text-decoration-color: #00af00\">424,095</span> (1.62 MB)\n",
       "</pre>\n"
      ],
      "text/plain": [
       "\u001b[1m Total params: \u001b[0m\u001b[38;5;34m424,095\u001b[0m (1.62 MB)\n"
      ]
     },
     "metadata": {},
     "output_type": "display_data"
    },
    {
     "data": {
      "text/html": [
       "<pre style=\"white-space:pre;overflow-x:auto;line-height:normal;font-family:Menlo,'DejaVu Sans Mono',consolas,'Courier New',monospace\"><span style=\"font-weight: bold\"> Trainable params: </span><span style=\"color: #00af00; text-decoration-color: #00af00\">0</span> (0.00 B)\n",
       "</pre>\n"
      ],
      "text/plain": [
       "\u001b[1m Trainable params: \u001b[0m\u001b[38;5;34m0\u001b[0m (0.00 B)\n"
      ]
     },
     "metadata": {},
     "output_type": "display_data"
    },
    {
     "data": {
      "text/html": [
       "<pre style=\"white-space:pre;overflow-x:auto;line-height:normal;font-family:Menlo,'DejaVu Sans Mono',consolas,'Courier New',monospace\"><span style=\"font-weight: bold\"> Non-trainable params: </span><span style=\"color: #00af00; text-decoration-color: #00af00\">424,095</span> (1.62 MB)\n",
       "</pre>\n"
      ],
      "text/plain": [
       "\u001b[1m Non-trainable params: \u001b[0m\u001b[38;5;34m424,095\u001b[0m (1.62 MB)\n"
      ]
     },
     "metadata": {},
     "output_type": "display_data"
    }
   ],
   "source": [
    "model = Sequential([\n",
    "    Embedding(input_dim=vocab_size, output_dim=embedding_dim, weights=[embedding_matrix], input_length=max_length, trainable=False),\n",
    "    LSTM(128, return_sequences=True),\n",
    "    Dropout(0.3),\n",
    "    LSTM(64),\n",
    "    Dropout(0.3),\n",
    "    Dense(1, activation='sigmoid')\n",
    "])\n",
    "\n",
    "model.compile(loss='binary_crossentropy', optimizer='adam', metrics=['accuracy'])\n",
    "model.summary()\n"
   ]
  },
  {
   "cell_type": "code",
   "execution_count": 43,
   "metadata": {
    "execution": {
     "iopub.execute_input": "2025-03-31T02:45:21.758872Z",
     "iopub.status.busy": "2025-03-31T02:45:21.758545Z",
     "iopub.status.idle": "2025-03-31T02:45:33.065447Z",
     "shell.execute_reply": "2025-03-31T02:45:33.064468Z",
     "shell.execute_reply.started": "2025-03-31T02:45:21.758842Z"
    },
    "trusted": true
   },
   "outputs": [
    {
     "name": "stdout",
     "output_type": "stream",
     "text": [
      "\u001b[1m48/48\u001b[0m \u001b[32m━━━━━━━━━━━━━━━━━━━━\u001b[0m\u001b[37m\u001b[0m \u001b[1m11s\u001b[0m 212ms/step - accuracy: 0.5694 - loss: 0.6931\n",
      "Test Accuracy: 0.5739\n"
     ]
    }
   ],
   "source": [
    "loss, accuracy = model.evaluate(X_test, y_test)\n",
    "print(f\"Test Accuracy: {accuracy:.4f}\")\n"
   ]
  },
  {
   "cell_type": "markdown",
   "metadata": {},
   "source": [
    "The above shows that our complex model did worse when compared to our Baseline model. Even the baseline model was able to have 80% accuracy.\n",
    "\n",
    "My hypothesis is the word2Vec didn't learn good representations of the words. I will use pretrained vectors from Glove.\n",
    "\n",
    "#### Improvement on advanced model\n",
    "Using Glove + LSTM instead of word2Vec + LSTM"
   ]
  },
  {
   "cell_type": "code",
   "execution_count": 44,
   "metadata": {
    "execution": {
     "iopub.execute_input": "2025-03-31T02:45:33.070105Z",
     "iopub.status.busy": "2025-03-31T02:45:33.069743Z",
     "iopub.status.idle": "2025-03-31T02:45:43.618239Z",
     "shell.execute_reply": "2025-03-31T02:45:43.617108Z",
     "shell.execute_reply.started": "2025-03-31T02:45:33.070069Z"
    },
    "trusted": true
   },
   "outputs": [
    {
     "name": "stdout",
     "output_type": "stream",
     "text": [
      "Vector for 'king': [-0.32307 -0.87616  0.21977  0.25268  0.22976]\n",
      "Vector for 'queen': [-0.50045 -0.70826  0.55388  0.673    0.22486]\n"
     ]
    }
   ],
   "source": [
    "import numpy as np\n",
    "\n",
    "# Define the file path to the GloVe embeddings file\n",
    "glove_file_path = '/kaggle/input/glove-global-vectors-for-word-representation/glove.6B.100d.txt'\n",
    "\n",
    "# Load GloVe embeddings into a dictionary\n",
    "embedding_index = {}\n",
    "embedding_dim = 100  # For 100-dimensional GloVe vectors\n",
    "\n",
    "with open(glove_file_path, 'r', encoding='utf-8') as f:\n",
    "    for line in f:\n",
    "        values = line.split()\n",
    "        word = values[0]\n",
    "        coef = np.array(values[1:], dtype='float32')\n",
    "        embedding_index[word] = coef\n",
    "\n",
    "# Checking some loaded vectors\n",
    "print(f\"Vector for 'king': {embedding_index.get('king')[:5]}\")\n",
    "print(f\"Vector for 'queen': {embedding_index.get('queen')[:5]}\")\n"
   ]
  },
  {
   "cell_type": "code",
   "execution_count": 45,
   "metadata": {
    "execution": {
     "iopub.execute_input": "2025-03-31T02:45:43.620107Z",
     "iopub.status.busy": "2025-03-31T02:45:43.619724Z",
     "iopub.status.idle": "2025-03-31T02:45:43.852942Z",
     "shell.execute_reply": "2025-03-31T02:45:43.851769Z",
     "shell.execute_reply.started": "2025-03-31T02:45:43.620070Z"
    },
    "trusted": true
   },
   "outputs": [
    {
     "name": "stdout",
     "output_type": "stream",
     "text": [
      "[[3697  436   67 2397 3698    6    0    0    0    0    0    0    0    0\n",
      "     0    0    0    0    0    0    0    0    0    0    0    0    0    0\n",
      "     0    0    0    0    0    0    0]\n",
      " [ 110    1  142  484 5352 5353 1179    0    0    0    0    0    0    0\n",
      "     0    0    0    0    0    0    0    0    0    0    0    0    0    0\n",
      "     0    0    0    0    0    0    0]\n",
      " [1476 1348 1798  437 5354  306  164 1798  437  345  917    0    0    0\n",
      "     0    0    0    0    0    0    0    0    0    0    0    0    0    0\n",
      "     0    0    0    0    0    0    0]\n",
      " [  11 3699  164  345   38    0    0    0    0    0    0    0    0    0\n",
      "     0    0    0    0    0    0    0    0    0    0    0    0    0    0\n",
      "     0    0    0    0    0    0    0]\n",
      " [  27 1030  115 5355  178 5356   92    0    0    0    0    0    0    0\n",
      "     0    0    0    0    0    0    0    0    0    0    0    0    0    0\n",
      "     0    0    0    0    0    0    0]]\n",
      "(7613, 35)\n"
     ]
    }
   ],
   "source": [
    "# Tokenize and pad the sequences\n",
    "tokenizer = Tokenizer()\n",
    "tokenizer.fit_on_texts(df['clean_text'])  # Fit the tokenizer on your text data\n",
    "\n",
    "# Convert text data to sequences of integers\n",
    "sequences = tokenizer.texts_to_sequences(df['clean_text'])\n",
    "X = pad_sequences(sequences, maxlen=35, padding='post')\n",
    "\n",
    "# Labels (assuming it's binary classification)\n",
    "y = df['target'].values  # Adjust the column name as per your dataset\n",
    "\n",
    "print (X[:5])\n",
    "print (X.shape)"
   ]
  },
  {
   "cell_type": "code",
   "execution_count": 46,
   "metadata": {
    "execution": {
     "iopub.execute_input": "2025-03-31T02:45:43.854684Z",
     "iopub.status.busy": "2025-03-31T02:45:43.854253Z",
     "iopub.status.idle": "2025-03-31T02:45:43.892176Z",
     "shell.execute_reply": "2025-03-31T02:45:43.891065Z",
     "shell.execute_reply.started": "2025-03-31T02:45:43.854633Z"
    },
    "trusted": true
   },
   "outputs": [],
   "source": [
    "# Prepare the embedding matrix (map words in the tokenizer to GloVe vectors)\n",
    "vocab_size = len(tokenizer.word_index) + 1  # Size of the vocabulary\n",
    "embedding_matrix = np.zeros((vocab_size, embedding_dim))\n",
    "\n",
    "# Map words to their GloVe vectors\n",
    "for word, i in tokenizer.word_index.items():\n",
    "    if word in embedding_index:\n",
    "        embedding_matrix[i] = embedding_index[word]"
   ]
  },
  {
   "cell_type": "code",
   "execution_count": 47,
   "metadata": {
    "execution": {
     "iopub.execute_input": "2025-03-31T02:45:43.893274Z",
     "iopub.status.busy": "2025-03-31T02:45:43.892926Z",
     "iopub.status.idle": "2025-03-31T02:45:43.952135Z",
     "shell.execute_reply": "2025-03-31T02:45:43.951129Z",
     "shell.execute_reply.started": "2025-03-31T02:45:43.893243Z"
    },
    "trusted": true
   },
   "outputs": [
    {
     "data": {
      "text/html": [
       "<pre style=\"white-space:pre;overflow-x:auto;line-height:normal;font-family:Menlo,'DejaVu Sans Mono',consolas,'Courier New',monospace\"><span style=\"font-weight: bold\">Model: \"sequential_1\"</span>\n",
       "</pre>\n"
      ],
      "text/plain": [
       "\u001b[1mModel: \"sequential_1\"\u001b[0m\n"
      ]
     },
     "metadata": {},
     "output_type": "display_data"
    },
    {
     "data": {
      "text/html": [
       "<pre style=\"white-space:pre;overflow-x:auto;line-height:normal;font-family:Menlo,'DejaVu Sans Mono',consolas,'Courier New',monospace\">┏━━━━━━━━━━━━━━━━━━━━━━━━━━━━━━━━━━━━━━┳━━━━━━━━━━━━━━━━━━━━━━━━━━━━━┳━━━━━━━━━━━━━━━━━┓\n",
       "┃<span style=\"font-weight: bold\"> Layer (type)                         </span>┃<span style=\"font-weight: bold\"> Output Shape                </span>┃<span style=\"font-weight: bold\">         Param # </span>┃\n",
       "┡━━━━━━━━━━━━━━━━━━━━━━━━━━━━━━━━━━━━━━╇━━━━━━━━━━━━━━━━━━━━━━━━━━━━━╇━━━━━━━━━━━━━━━━━┩\n",
       "│ embedding_1 (<span style=\"color: #0087ff; text-decoration-color: #0087ff\">Embedding</span>)              │ ?                           │       <span style=\"color: #00af00; text-decoration-color: #00af00\">1,211,700</span> │\n",
       "├──────────────────────────────────────┼─────────────────────────────┼─────────────────┤\n",
       "│ lstm_2 (<span style=\"color: #0087ff; text-decoration-color: #0087ff\">LSTM</span>)                        │ ?                           │     <span style=\"color: #00af00; text-decoration-color: #00af00\">0</span> (unbuilt) │\n",
       "├──────────────────────────────────────┼─────────────────────────────┼─────────────────┤\n",
       "│ dropout_2 (<span style=\"color: #0087ff; text-decoration-color: #0087ff\">Dropout</span>)                  │ ?                           │     <span style=\"color: #00af00; text-decoration-color: #00af00\">0</span> (unbuilt) │\n",
       "├──────────────────────────────────────┼─────────────────────────────┼─────────────────┤\n",
       "│ dense_1 (<span style=\"color: #0087ff; text-decoration-color: #0087ff\">Dense</span>)                      │ ?                           │     <span style=\"color: #00af00; text-decoration-color: #00af00\">0</span> (unbuilt) │\n",
       "└──────────────────────────────────────┴─────────────────────────────┴─────────────────┘\n",
       "</pre>\n"
      ],
      "text/plain": [
       "┏━━━━━━━━━━━━━━━━━━━━━━━━━━━━━━━━━━━━━━┳━━━━━━━━━━━━━━━━━━━━━━━━━━━━━┳━━━━━━━━━━━━━━━━━┓\n",
       "┃\u001b[1m \u001b[0m\u001b[1mLayer (type)                        \u001b[0m\u001b[1m \u001b[0m┃\u001b[1m \u001b[0m\u001b[1mOutput Shape               \u001b[0m\u001b[1m \u001b[0m┃\u001b[1m \u001b[0m\u001b[1m        Param #\u001b[0m\u001b[1m \u001b[0m┃\n",
       "┡━━━━━━━━━━━━━━━━━━━━━━━━━━━━━━━━━━━━━━╇━━━━━━━━━━━━━━━━━━━━━━━━━━━━━╇━━━━━━━━━━━━━━━━━┩\n",
       "│ embedding_1 (\u001b[38;5;33mEmbedding\u001b[0m)              │ ?                           │       \u001b[38;5;34m1,211,700\u001b[0m │\n",
       "├──────────────────────────────────────┼─────────────────────────────┼─────────────────┤\n",
       "│ lstm_2 (\u001b[38;5;33mLSTM\u001b[0m)                        │ ?                           │     \u001b[38;5;34m0\u001b[0m (unbuilt) │\n",
       "├──────────────────────────────────────┼─────────────────────────────┼─────────────────┤\n",
       "│ dropout_2 (\u001b[38;5;33mDropout\u001b[0m)                  │ ?                           │     \u001b[38;5;34m0\u001b[0m (unbuilt) │\n",
       "├──────────────────────────────────────┼─────────────────────────────┼─────────────────┤\n",
       "│ dense_1 (\u001b[38;5;33mDense\u001b[0m)                      │ ?                           │     \u001b[38;5;34m0\u001b[0m (unbuilt) │\n",
       "└──────────────────────────────────────┴─────────────────────────────┴─────────────────┘\n"
      ]
     },
     "metadata": {},
     "output_type": "display_data"
    },
    {
     "data": {
      "text/html": [
       "<pre style=\"white-space:pre;overflow-x:auto;line-height:normal;font-family:Menlo,'DejaVu Sans Mono',consolas,'Courier New',monospace\"><span style=\"font-weight: bold\"> Total params: </span><span style=\"color: #00af00; text-decoration-color: #00af00\">1,211,700</span> (4.62 MB)\n",
       "</pre>\n"
      ],
      "text/plain": [
       "\u001b[1m Total params: \u001b[0m\u001b[38;5;34m1,211,700\u001b[0m (4.62 MB)\n"
      ]
     },
     "metadata": {},
     "output_type": "display_data"
    },
    {
     "data": {
      "text/html": [
       "<pre style=\"white-space:pre;overflow-x:auto;line-height:normal;font-family:Menlo,'DejaVu Sans Mono',consolas,'Courier New',monospace\"><span style=\"font-weight: bold\"> Trainable params: </span><span style=\"color: #00af00; text-decoration-color: #00af00\">0</span> (0.00 B)\n",
       "</pre>\n"
      ],
      "text/plain": [
       "\u001b[1m Trainable params: \u001b[0m\u001b[38;5;34m0\u001b[0m (0.00 B)\n"
      ]
     },
     "metadata": {},
     "output_type": "display_data"
    },
    {
     "data": {
      "text/html": [
       "<pre style=\"white-space:pre;overflow-x:auto;line-height:normal;font-family:Menlo,'DejaVu Sans Mono',consolas,'Courier New',monospace\"><span style=\"font-weight: bold\"> Non-trainable params: </span><span style=\"color: #00af00; text-decoration-color: #00af00\">1,211,700</span> (4.62 MB)\n",
       "</pre>\n"
      ],
      "text/plain": [
       "\u001b[1m Non-trainable params: \u001b[0m\u001b[38;5;34m1,211,700\u001b[0m (4.62 MB)\n"
      ]
     },
     "metadata": {},
     "output_type": "display_data"
    }
   ],
   "source": [
    "from tensorflow.keras.models import Sequential\n",
    "from tensorflow.keras.layers import Embedding, LSTM, Dense, Dropout, Bidirectional\n",
    "from tensorflow.keras.optimizers import Adam\n",
    "\n",
    "# Build the model\n",
    "model = Sequential([\n",
    "    Embedding(input_dim=vocab_size, output_dim=embedding_dim, weights=[embedding_matrix], input_length=40, trainable=False),\n",
    "    LSTM(64),  # LSTM layer\n",
    "    Dropout(0.2),  # Another dropout layer\n",
    "    Dense(1, activation='sigmoid')  # Output layer (binary classification)\n",
    "])\n",
    "\n",
    "# Compile the model\n",
    "model.compile(loss='binary_crossentropy', optimizer=Adam(learning_rate=0.0005), metrics=['accuracy'])\n",
    "model.summary()\n"
   ]
  },
  {
   "cell_type": "code",
   "execution_count": 48,
   "metadata": {
    "execution": {
     "iopub.execute_input": "2025-03-31T02:45:43.953744Z",
     "iopub.status.busy": "2025-03-31T02:45:43.953312Z",
     "iopub.status.idle": "2025-03-31T02:46:52.111478Z",
     "shell.execute_reply": "2025-03-31T02:46:52.110556Z",
     "shell.execute_reply.started": "2025-03-31T02:45:43.953707Z"
    },
    "trusted": true
   },
   "outputs": [
    {
     "name": "stdout",
     "output_type": "stream",
     "text": [
      "Epoch 1/20\n",
      "\u001b[1m190/191\u001b[0m \u001b[32m━━━━━━━━━━━━━━━━━━━\u001b[0m\u001b[37m━\u001b[0m \u001b[1m0s\u001b[0m 15ms/step - accuracy: 0.6621 - loss: 0.5941\n",
      "Epoch 1: val_accuracy improved from -inf to 0.79580, saving model to best_model_gLove_LSTM.keras\n",
      "\u001b[1m191/191\u001b[0m \u001b[32m━━━━━━━━━━━━━━━━━━━━\u001b[0m\u001b[37m\u001b[0m \u001b[1m6s\u001b[0m 19ms/step - accuracy: 0.6629 - loss: 0.5935 - val_accuracy: 0.7958 - val_loss: 0.4703\n",
      "Epoch 2/20\n",
      "\u001b[1m190/191\u001b[0m \u001b[32m━━━━━━━━━━━━━━━━━━━\u001b[0m\u001b[37m━\u001b[0m \u001b[1m0s\u001b[0m 15ms/step - accuracy: 0.7958 - loss: 0.4629\n",
      "Epoch 2: val_accuracy improved from 0.79580 to 0.80368, saving model to best_model_gLove_LSTM.keras\n",
      "\u001b[1m191/191\u001b[0m \u001b[32m━━━━━━━━━━━━━━━━━━━━\u001b[0m\u001b[37m\u001b[0m \u001b[1m3s\u001b[0m 17ms/step - accuracy: 0.7958 - loss: 0.4629 - val_accuracy: 0.8037 - val_loss: 0.4564\n",
      "Epoch 3/20\n",
      "\u001b[1m190/191\u001b[0m \u001b[32m━━━━━━━━━━━━━━━━━━━\u001b[0m\u001b[37m━\u001b[0m \u001b[1m0s\u001b[0m 16ms/step - accuracy: 0.8078 - loss: 0.4437\n",
      "Epoch 3: val_accuracy did not improve from 0.80368\n",
      "\u001b[1m191/191\u001b[0m \u001b[32m━━━━━━━━━━━━━━━━━━━━\u001b[0m\u001b[37m\u001b[0m \u001b[1m3s\u001b[0m 18ms/step - accuracy: 0.8078 - loss: 0.4437 - val_accuracy: 0.7827 - val_loss: 0.4705\n",
      "Epoch 4/20\n",
      "\u001b[1m189/191\u001b[0m \u001b[32m━━━━━━━━━━━━━━━━━━━\u001b[0m\u001b[37m━\u001b[0m \u001b[1m0s\u001b[0m 15ms/step - accuracy: 0.8082 - loss: 0.4374\n",
      "Epoch 4: val_accuracy improved from 0.80368 to 0.80827, saving model to best_model_gLove_LSTM.keras\n",
      "\u001b[1m191/191\u001b[0m \u001b[32m━━━━━━━━━━━━━━━━━━━━\u001b[0m\u001b[37m\u001b[0m \u001b[1m3s\u001b[0m 17ms/step - accuracy: 0.8083 - loss: 0.4373 - val_accuracy: 0.8083 - val_loss: 0.4425\n",
      "Epoch 5/20\n",
      "\u001b[1m189/191\u001b[0m \u001b[32m━━━━━━━━━━━━━━━━━━━\u001b[0m\u001b[37m━\u001b[0m \u001b[1m0s\u001b[0m 15ms/step - accuracy: 0.8298 - loss: 0.4134\n",
      "Epoch 5: val_accuracy did not improve from 0.80827\n",
      "\u001b[1m191/191\u001b[0m \u001b[32m━━━━━━━━━━━━━━━━━━━━\u001b[0m\u001b[37m\u001b[0m \u001b[1m3s\u001b[0m 17ms/step - accuracy: 0.8298 - loss: 0.4134 - val_accuracy: 0.8076 - val_loss: 0.4397\n",
      "Epoch 6/20\n",
      "\u001b[1m189/191\u001b[0m \u001b[32m━━━━━━━━━━━━━━━━━━━\u001b[0m\u001b[37m━\u001b[0m \u001b[1m0s\u001b[0m 15ms/step - accuracy: 0.8347 - loss: 0.3977\n",
      "Epoch 6: val_accuracy did not improve from 0.80827\n",
      "\u001b[1m191/191\u001b[0m \u001b[32m━━━━━━━━━━━━━━━━━━━━\u001b[0m\u001b[37m\u001b[0m \u001b[1m3s\u001b[0m 17ms/step - accuracy: 0.8346 - loss: 0.3978 - val_accuracy: 0.7971 - val_loss: 0.4519\n",
      "Epoch 7/20\n",
      "\u001b[1m190/191\u001b[0m \u001b[32m━━━━━━━━━━━━━━━━━━━\u001b[0m\u001b[37m━\u001b[0m \u001b[1m0s\u001b[0m 15ms/step - accuracy: 0.8305 - loss: 0.3921\n",
      "Epoch 7: val_accuracy did not improve from 0.80827\n",
      "\u001b[1m191/191\u001b[0m \u001b[32m━━━━━━━━━━━━━━━━━━━━\u001b[0m\u001b[37m\u001b[0m \u001b[1m3s\u001b[0m 17ms/step - accuracy: 0.8305 - loss: 0.3921 - val_accuracy: 0.8050 - val_loss: 0.4464\n",
      "Epoch 8/20\n",
      "\u001b[1m189/191\u001b[0m \u001b[32m━━━━━━━━━━━━━━━━━━━\u001b[0m\u001b[37m━\u001b[0m \u001b[1m0s\u001b[0m 15ms/step - accuracy: 0.8438 - loss: 0.3689\n",
      "Epoch 8: val_accuracy did not improve from 0.80827\n",
      "\u001b[1m191/191\u001b[0m \u001b[32m━━━━━━━━━━━━━━━━━━━━\u001b[0m\u001b[37m\u001b[0m \u001b[1m3s\u001b[0m 17ms/step - accuracy: 0.8438 - loss: 0.3689 - val_accuracy: 0.8004 - val_loss: 0.4573\n",
      "Epoch 9/20\n",
      "\u001b[1m189/191\u001b[0m \u001b[32m━━━━━━━━━━━━━━━━━━━\u001b[0m\u001b[37m━\u001b[0m \u001b[1m0s\u001b[0m 15ms/step - accuracy: 0.8608 - loss: 0.3425\n",
      "Epoch 9: val_accuracy did not improve from 0.80827\n",
      "\u001b[1m191/191\u001b[0m \u001b[32m━━━━━━━━━━━━━━━━━━━━\u001b[0m\u001b[37m\u001b[0m \u001b[1m3s\u001b[0m 17ms/step - accuracy: 0.8606 - loss: 0.3428 - val_accuracy: 0.7768 - val_loss: 0.4669\n",
      "Epoch 10/20\n",
      "\u001b[1m190/191\u001b[0m \u001b[32m━━━━━━━━━━━━━━━━━━━\u001b[0m\u001b[37m━\u001b[0m \u001b[1m0s\u001b[0m 15ms/step - accuracy: 0.8537 - loss: 0.3576\n",
      "Epoch 10: val_accuracy did not improve from 0.80827\n",
      "\u001b[1m191/191\u001b[0m \u001b[32m━━━━━━━━━━━━━━━━━━━━\u001b[0m\u001b[37m\u001b[0m \u001b[1m3s\u001b[0m 17ms/step - accuracy: 0.8538 - loss: 0.3575 - val_accuracy: 0.7978 - val_loss: 0.4905\n",
      "Epoch 11/20\n",
      "\u001b[1m189/191\u001b[0m \u001b[32m━━━━━━━━━━━━━━━━━━━\u001b[0m\u001b[37m━\u001b[0m \u001b[1m0s\u001b[0m 15ms/step - accuracy: 0.8646 - loss: 0.3373\n",
      "Epoch 11: val_accuracy did not improve from 0.80827\n",
      "\u001b[1m191/191\u001b[0m \u001b[32m━━━━━━━━━━━━━━━━━━━━\u001b[0m\u001b[37m\u001b[0m \u001b[1m3s\u001b[0m 17ms/step - accuracy: 0.8646 - loss: 0.3371 - val_accuracy: 0.7958 - val_loss: 0.4929\n",
      "Epoch 12/20\n",
      "\u001b[1m191/191\u001b[0m \u001b[32m━━━━━━━━━━━━━━━━━━━━\u001b[0m\u001b[37m\u001b[0m \u001b[1m0s\u001b[0m 16ms/step - accuracy: 0.8749 - loss: 0.3055\n",
      "Epoch 12: val_accuracy did not improve from 0.80827\n",
      "\u001b[1m191/191\u001b[0m \u001b[32m━━━━━━━━━━━━━━━━━━━━\u001b[0m\u001b[37m\u001b[0m \u001b[1m3s\u001b[0m 18ms/step - accuracy: 0.8749 - loss: 0.3056 - val_accuracy: 0.8030 - val_loss: 0.4732\n",
      "Epoch 13/20\n",
      "\u001b[1m189/191\u001b[0m \u001b[32m━━━━━━━━━━━━━━━━━━━\u001b[0m\u001b[37m━\u001b[0m \u001b[1m0s\u001b[0m 16ms/step - accuracy: 0.8806 - loss: 0.3077\n",
      "Epoch 13: val_accuracy did not improve from 0.80827\n",
      "\u001b[1m191/191\u001b[0m \u001b[32m━━━━━━━━━━━━━━━━━━━━\u001b[0m\u001b[37m\u001b[0m \u001b[1m3s\u001b[0m 18ms/step - accuracy: 0.8805 - loss: 0.3077 - val_accuracy: 0.7912 - val_loss: 0.5156\n",
      "Epoch 14/20\n",
      "\u001b[1m189/191\u001b[0m \u001b[32m━━━━━━━━━━━━━━━━━━━\u001b[0m\u001b[37m━\u001b[0m \u001b[1m0s\u001b[0m 15ms/step - accuracy: 0.8944 - loss: 0.2794\n",
      "Epoch 14: val_accuracy did not improve from 0.80827\n",
      "\u001b[1m191/191\u001b[0m \u001b[32m━━━━━━━━━━━━━━━━━━━━\u001b[0m\u001b[37m\u001b[0m \u001b[1m3s\u001b[0m 17ms/step - accuracy: 0.8943 - loss: 0.2795 - val_accuracy: 0.7984 - val_loss: 0.5330\n",
      "Epoch 15/20\n",
      "\u001b[1m189/191\u001b[0m \u001b[32m━━━━━━━━━━━━━━━━━━━\u001b[0m\u001b[37m━\u001b[0m \u001b[1m0s\u001b[0m 15ms/step - accuracy: 0.8960 - loss: 0.2690\n",
      "Epoch 15: val_accuracy did not improve from 0.80827\n",
      "\u001b[1m191/191\u001b[0m \u001b[32m━━━━━━━━━━━━━━━━━━━━\u001b[0m\u001b[37m\u001b[0m \u001b[1m3s\u001b[0m 17ms/step - accuracy: 0.8960 - loss: 0.2692 - val_accuracy: 0.7807 - val_loss: 0.5904\n",
      "Epoch 16/20\n",
      "\u001b[1m190/191\u001b[0m \u001b[32m━━━━━━━━━━━━━━━━━━━\u001b[0m\u001b[37m━\u001b[0m \u001b[1m0s\u001b[0m 15ms/step - accuracy: 0.9002 - loss: 0.2625\n",
      "Epoch 16: val_accuracy did not improve from 0.80827\n",
      "\u001b[1m191/191\u001b[0m \u001b[32m━━━━━━━━━━━━━━━━━━━━\u001b[0m\u001b[37m\u001b[0m \u001b[1m3s\u001b[0m 17ms/step - accuracy: 0.9002 - loss: 0.2625 - val_accuracy: 0.7971 - val_loss: 0.5468\n",
      "Epoch 17/20\n",
      "\u001b[1m189/191\u001b[0m \u001b[32m━━━━━━━━━━━━━━━━━━━\u001b[0m\u001b[37m━\u001b[0m \u001b[1m0s\u001b[0m 15ms/step - accuracy: 0.9058 - loss: 0.2550\n",
      "Epoch 17: val_accuracy did not improve from 0.80827\n",
      "\u001b[1m191/191\u001b[0m \u001b[32m━━━━━━━━━━━━━━━━━━━━\u001b[0m\u001b[37m\u001b[0m \u001b[1m3s\u001b[0m 17ms/step - accuracy: 0.9057 - loss: 0.2551 - val_accuracy: 0.7925 - val_loss: 0.5127\n",
      "Epoch 18/20\n",
      "\u001b[1m188/191\u001b[0m \u001b[32m━━━━━━━━━━━━━━━━━━━\u001b[0m\u001b[37m━\u001b[0m \u001b[1m0s\u001b[0m 15ms/step - accuracy: 0.9182 - loss: 0.2342\n",
      "Epoch 18: val_accuracy did not improve from 0.80827\n",
      "\u001b[1m191/191\u001b[0m \u001b[32m━━━━━━━━━━━━━━━━━━━━\u001b[0m\u001b[37m\u001b[0m \u001b[1m3s\u001b[0m 17ms/step - accuracy: 0.9181 - loss: 0.2346 - val_accuracy: 0.7511 - val_loss: 0.6966\n",
      "Epoch 19/20\n",
      "\u001b[1m191/191\u001b[0m \u001b[32m━━━━━━━━━━━━━━━━━━━━\u001b[0m\u001b[37m\u001b[0m \u001b[1m0s\u001b[0m 15ms/step - accuracy: 0.9161 - loss: 0.2373\n",
      "Epoch 19: val_accuracy did not improve from 0.80827\n",
      "\u001b[1m191/191\u001b[0m \u001b[32m━━━━━━━━━━━━━━━━━━━━\u001b[0m\u001b[37m\u001b[0m \u001b[1m3s\u001b[0m 17ms/step - accuracy: 0.9161 - loss: 0.2373 - val_accuracy: 0.7945 - val_loss: 0.5495\n",
      "Epoch 20/20\n",
      "\u001b[1m189/191\u001b[0m \u001b[32m━━━━━━━━━━━━━━━━━━━\u001b[0m\u001b[37m━\u001b[0m \u001b[1m0s\u001b[0m 15ms/step - accuracy: 0.9196 - loss: 0.2258\n",
      "Epoch 20: val_accuracy did not improve from 0.80827\n",
      "\u001b[1m191/191\u001b[0m \u001b[32m━━━━━━━━━━━━━━━━━━━━\u001b[0m\u001b[37m\u001b[0m \u001b[1m3s\u001b[0m 17ms/step - accuracy: 0.9196 - loss: 0.2258 - val_accuracy: 0.7958 - val_loss: 0.5779\n",
      "\u001b[1m48/48\u001b[0m \u001b[32m━━━━━━━━━━━━━━━━━━━━\u001b[0m\u001b[37m\u001b[0m \u001b[1m0s\u001b[0m 7ms/step - accuracy: 0.7927 - loss: 0.5952\n",
      "Test Accuracy: 0.7958\n"
     ]
    }
   ],
   "source": [
    "# Split the data into training and testing sets (if not done already)\n",
    "from sklearn.model_selection import train_test_split\n",
    "from tensorflow.keras.callbacks import ModelCheckpoint\n",
    "\n",
    "checkpoint_callback = ModelCheckpoint(\n",
    "    filepath=\"best_model_gLove_LSTM.keras\",  # File to save the model\n",
    "    monitor=\"val_accuracy\",  # Track validation accuracy (or use \"val_loss\")\n",
    "    save_best_only=True,  # Save only if the model improves\n",
    "    mode=\"max\",  # \"max\" for accuracy, \"min\" for loss\n",
    "    verbose=1\n",
    ")\n",
    "\n",
    "\n",
    "X_train, X_test, y_train, y_test = train_test_split(X, y, test_size=0.2, random_state=42)\n",
    "\n",
    "# Train the model\n",
    "history = model.fit(X_train, y_train, validation_data=(X_test, y_test), epochs=20, batch_size=32, callbacks=[checkpoint_callback])\n",
    "\n",
    "# Evaluate the model\n",
    "loss, accuracy = model.evaluate(X_test, y_test)\n",
    "print(f\"Test Accuracy: {accuracy:.4f}\")\n"
   ]
  },
  {
   "cell_type": "code",
   "execution_count": 49,
   "metadata": {
    "execution": {
     "iopub.execute_input": "2025-03-31T02:46:52.112704Z",
     "iopub.status.busy": "2025-03-31T02:46:52.112420Z",
     "iopub.status.idle": "2025-03-31T02:46:52.119811Z",
     "shell.execute_reply": "2025-03-31T02:46:52.118522Z",
     "shell.execute_reply.started": "2025-03-31T02:46:52.112679Z"
    },
    "trusted": true
   },
   "outputs": [],
   "source": [
    "import matplotlib.pyplot as plt\n",
    "\n",
    "def plot_history(history):\n",
    "    # Plot the training & validation accuracy and loss\n",
    "    plt.figure(figsize=(12, 6))\n",
    "\n",
    "    # Accuracy plot\n",
    "    plt.subplot(1, 2, 1)\n",
    "    plt.plot(history.history['accuracy'], label='Train Accuracy')\n",
    "    plt.plot(history.history['val_accuracy'], label='Validation Accuracy')\n",
    "    plt.title('Model Accuracy')\n",
    "    plt.xlabel('Epoch')\n",
    "    plt.ylabel('Accuracy')\n",
    "    plt.legend()\n",
    "    \n",
    "    # Loss plot\n",
    "    plt.subplot(1, 2, 2)\n",
    "    plt.plot(history.history['loss'], label='Train Loss')\n",
    "    plt.plot(history.history['val_loss'], label='Validation Loss')\n",
    "    plt.title('Model Loss')\n",
    "    plt.xlabel('Epoch')\n",
    "    plt.ylabel('Loss')\n",
    "    plt.legend()\n",
    "    \n",
    "    plt.show()\n"
   ]
  },
  {
   "cell_type": "code",
   "execution_count": 50,
   "metadata": {
    "execution": {
     "iopub.execute_input": "2025-03-31T02:46:52.121477Z",
     "iopub.status.busy": "2025-03-31T02:46:52.121065Z",
     "iopub.status.idle": "2025-03-31T02:46:52.588729Z",
     "shell.execute_reply": "2025-03-31T02:46:52.587427Z",
     "shell.execute_reply.started": "2025-03-31T02:46:52.121421Z"
    },
    "trusted": true
   },
   "outputs": [
    {
     "data": {
      "image/png": "[encoded data removed]",
      "text/plain": [
       "<Figure size 1200x600 with 2 Axes>"
      ]
     },
     "metadata": {},
     "output_type": "display_data"
    }
   ],
   "source": [
    "plot_history(history)"
   ]
  },
  {
   "cell_type": "code",
   "execution_count": 51,
   "metadata": {
    "execution": {
     "iopub.execute_input": "2025-03-31T02:46:52.590064Z",
     "iopub.status.busy": "2025-03-31T02:46:52.589707Z",
     "iopub.status.idle": "2025-03-31T02:46:52.602353Z",
     "shell.execute_reply": "2025-03-31T02:46:52.601131Z",
     "shell.execute_reply.started": "2025-03-31T02:46:52.590021Z"
    },
    "trusted": true
   },
   "outputs": [
    {
     "name": "stdout",
     "output_type": "stream",
     "text": [
      "<class 'pandas.core.frame.DataFrame'>\n",
      "RangeIndex: 3263 entries, 0 to 3262\n",
      "Data columns (total 4 columns):\n",
      " #   Column    Non-Null Count  Dtype \n",
      "---  ------    --------------  ----- \n",
      " 0   id        3263 non-null   int64 \n",
      " 1   keyword   3237 non-null   object\n",
      " 2   location  2158 non-null   object\n",
      " 3   text      3263 non-null   object\n",
      "dtypes: int64(1), object(3)\n",
      "memory usage: 102.1+ KB\n"
     ]
    }
   ],
   "source": [
    "test.info()"
   ]
  },
  {
   "cell_type": "code",
   "execution_count": 52,
   "metadata": {
    "execution": {
     "iopub.execute_input": "2025-03-31T02:46:52.604179Z",
     "iopub.status.busy": "2025-03-31T02:46:52.603663Z",
     "iopub.status.idle": "2025-03-31T02:46:52.749287Z",
     "shell.execute_reply": "2025-03-31T02:46:52.748282Z",
     "shell.execute_reply.started": "2025-03-31T02:46:52.604093Z"
    },
    "trusted": true
   },
   "outputs": [],
   "source": [
    "from tensorflow.keras.models import load_model\n",
    "best_model = load_model(\"best_model_gLove_LSTM.keras\")"
   ]
  },
  {
   "cell_type": "code",
   "execution_count": 63,
   "metadata": {
    "execution": {
     "iopub.execute_input": "2025-03-31T03:00:56.328314Z",
     "iopub.status.busy": "2025-03-31T03:00:56.327885Z",
     "iopub.status.idle": "2025-03-31T03:00:56.783171Z",
     "shell.execute_reply": "2025-03-31T03:00:56.781953Z",
     "shell.execute_reply.started": "2025-03-31T03:00:56.328281Z"
    },
    "trusted": true
   },
   "outputs": [
    {
     "name": "stdout",
     "output_type": "stream",
     "text": [
      "(1523, 35) (1523,)\n",
      "\u001b[1m48/48\u001b[0m \u001b[32m━━━━━━━━━━━━━━━━━━━━\u001b[0m\u001b[37m\u001b[0m \u001b[1m0s\u001b[0m 7ms/step\n",
      "(1523, 1)\n",
      "(1523,) (1523, 1)\n",
      "Accuracy: 0.8083\n",
      "              precision    recall  f1-score   support\n",
      "\n",
      "           0       0.80      0.90      0.84       874\n",
      "           1       0.83      0.69      0.75       649\n",
      "\n",
      "    accuracy                           0.81      1523\n",
      "   macro avg       0.81      0.79      0.80      1523\n",
      "weighted avg       0.81      0.81      0.80      1523\n",
      "\n"
     ]
    }
   ],
   "source": [
    "import pandas as pd\n",
    "\n",
    "print(X_test.shape, y_test.shape)  \n",
    "predictions = best_model.predict(X_test)  \n",
    "print(predictions.shape)  \n",
    "y_pred = (predictions > 0.5).astype(int)  \n",
    "print(y_test.shape, y_pred.shape)  \n",
    "accuracy = accuracy_score(y_test, y_pred)  \n",
    "print(f\"Accuracy: {accuracy:.4f}\")  \n",
    "print(classification_report(y_test, y_pred))  "
   ]
  },
  {
   "cell_type": "code",
   "execution_count": null,
   "metadata": {
    "execution": {
     "iopub.status.busy": "2025-03-31T02:46:52.789602Z",
     "iopub.status.idle": "2025-03-31T02:46:52.789936Z",
     "shell.execute_reply": "2025-03-31T02:46:52.789806Z"
    },
    "trusted": true
   },
   "outputs": [],
   "source": [
    "# Use the same tokenizer from training (DO NOT re-fit on test data)\n",
    "df_test = preprocess_column(test, 'text')\n",
    "df_test['clean_text'] = df_test['text'].apply(clean_text)\n",
    "sequences = tokenizer.texts_to_sequences(df_test['clean_text'])  \n",
    "X_test = pad_sequences(sequences, maxlen=35, padding='post')  \n",
    "\n",
    "# Make predictions\n",
    "predictions = best_model.predict(X_test)\n",
    "y_pred = (predictions > 0.5).astype(int)  # Convert probabilities to binary labels\n",
    "\n",
    "# Save to CSV\n",
    "submission = pd.DataFrame({\"id\": test['id'], \"target\": y_pred.flatten()})\n",
    "submission.to_csv(\"sample_submission.csv\", index=False)\n",
    "\n",
    "print(\"Predictions saved to sample_submission.csv\")\n"
   ]
  },
  {
   "cell_type": "markdown",
   "metadata": {},
   "source": [
    "Conclusion:\n",
    "1. Both the baseline model(TF-IDF + Logistic Regression) and the advanced model(Glove + LSTM) have similar accuracy, recall and f1 score.\n",
    "2. This could have happened because the sentence length is too short (~30 words max), hence there is nothing much to remember throughout the sentence. Secondly, the dataset size if too small (3263 entries), this would have not enabled the advanced model to learn meaningfully. \n",
    "3. The fact that baseline model is performing so well is that a simple model is performing decently on the dataset.\n",
    "\n",
    "Potential improvements:\n",
    "1. To improve the model further, we can use augmentation techniques to generate more data.\n",
    "2. We could also look at transfer learning (BERT like pretrained models) and fine tune them (if needed, will require some experimentation) to solve this issue."
   ]
  }
 ],
 "metadata": {
  "kaggle": {
   "accelerator": "none",
   "dataSources": [
    {
     "databundleVersionId": 869809,
     "sourceId": 17777,
     "sourceType": "competition"
    },
    {
     "datasetId": 1835,
     "sourceId": 3176,
     "sourceType": "datasetVersion"
    }
   ],
   "dockerImageVersionId": 30918,
   "isGpuEnabled": false,
   "isInternetEnabled": false,
   "language": "python",
   "sourceType": "notebook"
  },
  "kernelspec": {
   "display_name": "Python 3",
   "language": "python",
   "name": "python3"
  },
  "language_info": {
   "codemirror_mode": {
    "name": "ipython",
    "version": 3
   },
   "file_extension": ".py",
   "mimetype": "text/x-python",
   "name": "python",
   "nbconvert_exporter": "python",
   "pygments_lexer": "ipython3",
   "version": "3.10.12"
  }
 },
 "nbformat": 4,
 "nbformat_minor": 4
}
